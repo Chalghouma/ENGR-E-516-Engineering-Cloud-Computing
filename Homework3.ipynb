{
  "nbformat": 4,
  "nbformat_minor": 0,
  "metadata": {
    "colab": {
      "name": "DeepLearning - HW3",
      "provenance": [],
      "authorship_tag": "ABX9TyO6tz4ovOICcWNA3hxOIUKj",
      "include_colab_link": true
    },
    "kernelspec": {
      "name": "python3",
      "display_name": "Python 3"
    },
    "language_info": {
      "name": "python"
    }
  },
  "cells": [
    {
      "cell_type": "markdown",
      "metadata": {
        "id": "view-in-github",
        "colab_type": "text"
      },
      "source": [
        "<a href=\"https://colab.research.google.com/github/Chalghouma/ENGR-E-516-Engineering-Cloud-Computing/blob/master/Homework3.ipynb\" target=\"_parent\"><img src=\"https://colab.research.google.com/assets/colab-badge.svg\" alt=\"Open In Colab\"/></a>"
      ]
    },
    {
      "cell_type": "code",
      "metadata": {
        "id": "3b8enHIFllEN"
      },
      "source": [
        "import tensorflow as tf\n",
        "import tensorflow.keras as keras\n",
        "import numpy as np"
      ],
      "execution_count": 1,
      "outputs": []
    },
    {
      "cell_type": "markdown",
      "metadata": {
        "id": "Dt_y_D2vnEE8"
      },
      "source": [
        "# Download Data"
      ]
    },
    {
      "cell_type": "code",
      "metadata": {
        "colab": {
          "base_uri": "https://localhost:8080/"
        },
        "id": "HaEWCM_ilqZL",
        "outputId": "377ef022-45f3-435a-9f2b-10bd2e7a5892"
      },
      "source": [
        "import requests\n",
        "zip_url = 'https://inst-fs-iad-prod.inscloudgate.net/files/e405cd14-ba20-4082-a6a2-2f48a3e2c156/homework3.zip?download=1&token=eyJ0eXAiOiJKV1QiLCJhbGciOiJIUzUxMiJ9.eyJpYXQiOjE2MzUxNTU1NDEsInVzZXJfaWQiOiIyOTAwMDAwMDY0NTUwODciLCJyZXNvdXJjZSI6Ii9maWxlcy9lNDA1Y2QxNC1iYTIwLTQwODItYTZhMi0yZjQ4YTNlMmMxNTYvaG9tZXdvcmszLnppcCIsImp0aSI6ImRjZWE3MGUyLWQzZmUtNDcwZS04ODc0LWYyYjA2ZGQ2Yjk0OCIsImhvc3QiOiJpdS5pbnN0cnVjdHVyZS5jb20iLCJvcmlnaW5hbF91cmwiOiJodHRwczovL2EyOS0xMjQ2NDM5MzkuY2x1c3RlcjI5LmNhbnZhcy11c2VyLWNvbnRlbnQuY29tL2NvdXJzZXMvMTk5ODA1NC9maWxlcy8xMjQ2NDM5MzkvY291cnNlJTIwZmlsZXMvSG9tZXdvcmsvSG9tZXdvcmslMjAzL2hvbWV3b3JrMy56aXA_ZG93bmxvYWRfZnJkPTFcdTAwMjZub19jYWNoZT10cnVlXHUwMDI2cmVkaXJlY3Q9dHJ1ZVx1MDAyNnNmX3ZlcmlmaWVyPWV5SjBlWEFpT2lKS1YxUWlMQ0poYkdjaU9pSklVelV4TWlKOS5leUoxYzJWeVgybGtJam9pTWprd01EQXdNREEyTkRVMU1EZzNJaXdpY205dmRGOWhZMk52ZFc1MFgybGtJam9pTWprd01EQXdNREF3TURrNE9EWTFJaXdpYjJGMWRHaGZhRzl6ZENJNkltbDFMbWx1YzNSeWRXTjBkWEpsTG1OdmJTSXNJbkpsZEhWeWJsOTFjbXdpT201MWJHd3NJbVpoYkd4aVlXTnJYM1Z5YkNJNkltaDBkSEJ6T2k4dmFYVXVhVzV6ZEhKMVkzUjFjbVV1WTI5dEwyTnZkWEp6WlhNdk1UazVPREExTkM5bWFXeGxjeTh4TWpRMk5ETTVNemt2Wkc5M2JteHZZV1FfZDNKaGNEMHhYSFV3TURJMlptRnNiR0poWTJ0ZmRITTlNVFl6TlRFNE5EVXlOaUlzSW1WNGNDSTZNVFl6TlRFNE5EZ3lObjAuendJbDFVVHdiMEhBS25WeWpkZHFsRmFtZDNmMjhEQkN5VG45c3RoZVY1WEpfbFNNMGV2eDBTWDN0a3NsdDlvMlpBYWt1eWh3c3h4cUdlX1FpN2RfZHciLCJleHAiOjE2MzUyNDE5NDF9.x-0N__KsuVjDYSm2VOHsvZPNvg3ZBVNrWvVFOKUnQIFQBbW4yJC19s2fqmG8sSUhJKAkj1DF6uL8TQq0QhVEhA'\n",
        "\n",
        "def download_file(url, target_path):\n",
        "  r = requests.get(url)\n",
        "\n",
        "  with open(target_path, 'wb') as f:\n",
        "      f.write(r.content)\n",
        "  print('File Created!')\n",
        "\n",
        "\n",
        "download_file(zip_url,'./data.zip')\n"
      ],
      "execution_count": 5,
      "outputs": [
        {
          "output_type": "stream",
          "name": "stdout",
          "text": [
            "File Created!\n"
          ]
        }
      ]
    },
    {
      "cell_type": "code",
      "metadata": {
        "id": "GgnDMAzomgFa"
      },
      "source": [
        "import zipfile\n",
        "\n",
        "def unzip(source,to):\n",
        "  with zipfile.ZipFile(source, 'r') as zip_ref:\n",
        "      zip_ref.extractall(to)\n",
        "\n",
        "unzip('./data.zip','./data')"
      ],
      "execution_count": 9,
      "outputs": []
    },
    {
      "cell_type": "markdown",
      "metadata": {
        "id": "AbV8rLeDnGf-"
      },
      "source": [
        "# Problem 1"
      ]
    }
  ]
}